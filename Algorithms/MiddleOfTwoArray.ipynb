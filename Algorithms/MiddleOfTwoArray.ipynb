{
 "cells": [
  {
   "cell_type": "code",
   "execution_count": 18,
   "metadata": {},
   "outputs": [
    {
     "name": "stdout",
     "output_type": "stream",
     "text": [
      "2\n"
     ]
    }
   ],
   "source": [
    "# Medium of two sorted arrays\n",
    "# Given two sorted arrays nums1 and nums2 of size m and n respectively, return the median of the two sorted arrays.\n",
    "\n",
    "# Follow up: The overall run time complexity should be O(log (m+n)).\n",
    "\n",
    "\n",
    "# Example 1:\n",
    "\n",
    "# Input: nums1 = [1,3], nums2 = [2]\n",
    "# Output: 2.00000\n",
    "# Explanation: merged array = [1,2,3] and median is 2.\n",
    "\n",
    "# Example 2:\n",
    "# Input: nums1 = [1,2], nums2 = [3,4]\n",
    "# Output: 2.50000\n",
    "# Explanation: merged array = [1,2,3,4] and median is (2 + 3) / 2 = 2.5.\n",
    "\n",
    "# Code -----------------------------------------------------\n",
    "nums1 = [1,3]\n",
    "nums2 = [2]\n",
    "nums = nums1 + nums2\n",
    "nums.sort()\n",
    "total_len = len(nums)\n",
    "if (total_len%2) == 0:\n",
    "    mid = total_len// 2\n",
    "    middle_value = (nums_sorted[mid] + nums_sorted[~mid]) / 2\n",
    "else:\n",
    "    middle_index = int(0.5*(total_len-1))\n",
    "    middle_value = nums[middle_index]\n",
    "\n",
    "print(middle_value)"
   ]
  },
  {
   "cell_type": "code",
   "execution_count": null,
   "metadata": {},
   "outputs": [],
   "source": []
  }
 ],
 "metadata": {
  "kernelspec": {
   "display_name": "Python 3",
   "language": "python",
   "name": "python3"
  },
  "language_info": {
   "codemirror_mode": {
    "name": "ipython",
    "version": 3
   },
   "file_extension": ".py",
   "mimetype": "text/x-python",
   "name": "python",
   "nbconvert_exporter": "python",
   "pygments_lexer": "ipython3",
   "version": "3.7.4"
  }
 },
 "nbformat": 4,
 "nbformat_minor": 2
}
