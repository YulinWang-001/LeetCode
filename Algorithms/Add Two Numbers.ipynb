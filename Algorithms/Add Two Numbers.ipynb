{
 "cells": [
  {
   "cell_type": "code",
   "execution_count": 3,
   "metadata": {},
   "outputs": [],
   "source": [
    "## You are given two non-empty linked lists representing two non-negative integers.\n",
    "# The digits are stored in reverse order, and each of their nodes contains a single digit. \n",
    "# Add the two numbers and return the sum as a linked list.\n",
    "# e.g. \n",
    "# Input: l1 = [2,4,3], l2 = [5,6,4]\n",
    "# Output: [7,0,8]\n",
    "# Explanation: 342 + 465 = 807.\n",
    "\n",
    "# Definition for singly-linked list.\n",
    "# class ListNode(object):\n",
    "#     def __init__(self, val=0, next=None):\n",
    "#         self.val = val\n",
    "#         self.next = next\n",
    "class Solution(object):\n",
    "    if l1 == None:\n",
    "        return l2\n",
    "    if l2 == None:\n",
    "        return l1\n",
    "        \n",
    "    def addTwoNumbers(self, l1, l2):\n",
    "        \"\"\"\n",
    "        :type l1: ListNode\n",
    "        :type l2: ListNode\n",
    "        :rtype: ListNode\n",
    "        \"\"\"\n",
    "        n1 = 0\n",
    "        n2 = 0\n",
    "        for count1, i in enumerate(l1):\n",
    "            n1 = n1 + count1*10**i\n",
    "            \n",
    "        for count2, j in enumerate(l2):\n",
    "            n2 = n2 + count2*10**j\n",
    "        \n",
    "        number = n1+n2 \n",
    "        array = []\n",
    "        for k in range(len(number)):\n",
    "            a = number\n",
    "            "
   ]
  },
  {
   "cell_type": "code",
   "execution_count": 4,
   "metadata": {},
   "outputs": [
    {
     "data": {
      "text/plain": [
       "[5, 6, 4]"
      ]
     },
     "execution_count": 4,
     "metadata": {},
     "output_type": "execute_result"
    }
   ],
   "source": [
    "[2,4,3]\n",
    "[5,6,4]"
   ]
  }
 ],
 "metadata": {
  "kernelspec": {
   "display_name": "Python 3",
   "language": "python",
   "name": "python3"
  },
  "language_info": {
   "codemirror_mode": {
    "name": "ipython",
    "version": 3
   },
   "file_extension": ".py",
   "mimetype": "text/x-python",
   "name": "python",
   "nbconvert_exporter": "python",
   "pygments_lexer": "ipython3",
   "version": "3.7.4"
  }
 },
 "nbformat": 4,
 "nbformat_minor": 2
}
