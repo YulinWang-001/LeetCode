{
 "cells": [
  {
   "cell_type": "code",
   "execution_count": 51,
   "metadata": {},
   "outputs": [],
   "source": [
    "# Given a string s, find the length of the longest substring without repeating characters.\n",
    "\n",
    "# Example 1:\n",
    "\n",
    "# Input: s = \"abcabcbb\"\n",
    "# Output: 3\n",
    "# Explanation: The answer is \"abc\", with the length of 3.\n",
    "# Code -------------------------------------------------------\n",
    "ans = 0\n",
    "sub = ''\n",
    "s = 'abcabchbb'\n",
    "for char in s:\n",
    "    if char not in sub:\n",
    "        sub += char\n",
    "        ans = max(ans, len(sub))\n",
    "    else:\n",
    "        cut = sub.index(char)\n",
    "        sub = sub[cut+1:] + char\n",
    "#  meaning that the first same letter will be deleted, and the 'window' will be \n",
    "# slided to the right\n"
   ]
  },
  {
   "cell_type": "code",
   "execution_count": 48,
   "metadata": {},
   "outputs": [
    {
     "name": "stdout",
     "output_type": "stream",
     "text": [
      "4\n"
     ]
    }
   ],
   "source": [
    "print(ans)"
   ]
  }
 ],
 "metadata": {
  "kernelspec": {
   "display_name": "Python 3",
   "language": "python",
   "name": "python3"
  },
  "language_info": {
   "codemirror_mode": {
    "name": "ipython",
    "version": 3
   },
   "file_extension": ".py",
   "mimetype": "text/x-python",
   "name": "python",
   "nbconvert_exporter": "python",
   "pygments_lexer": "ipython3",
   "version": "3.7.4"
  }
 },
 "nbformat": 4,
 "nbformat_minor": 2
}
